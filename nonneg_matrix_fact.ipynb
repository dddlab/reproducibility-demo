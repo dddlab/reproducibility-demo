{
 "cells": [
  {
   "cell_type": "markdown",
   "metadata": {},
   "source": [
    "# Nonnegative matrix factorization\n",
    "\n",
    "A derivative work by Judson Wilson, 6/2/2014.    \n",
    "Adapted from the CVX example of the same name, by Argyris Zymnis, Joelle Skaf and Stephen Boyd\n",
    "\n",
    "## Introduction\n",
    "\n",
    "We are given a matrix $A \\in \\mathbf{\\mbox{R}}^{m \\times n}$ and are interested in solving the problem:\n",
    "    \\begin{array}{ll}\n",
    "    \\mbox{minimize}   & \\| A - YX \\|_F \\\\\n",
    "    \\mbox{subject to} & Y \\succeq 0 \\\\\n",
    "                      & X \\succeq 0,\n",
    "    \\end{array}\n",
    "where $Y \\in \\mathbf{\\mbox{R}}^{m \\times k}$ and $X \\in \\mathbf{\\mbox{R}}^{k \\times n}$.\n",
    "\n",
    "This example generates a random matrix $A$ and obtains an\n",
    "*approximate* solution to the above problem by first generating\n",
    "a random initial guess for $Y$ and then alternatively minimizing\n",
    "over $X$ and $Y$ for a fixed number of iterations.\n",
    "\n",
    "## Generate problem data"
   ]
  },
  {
   "cell_type": "code",
   "execution_count": 1,
   "metadata": {},
   "outputs": [],
   "source": [
    "import cvxpy as cp\n",
    "import numpy as np\n",
    "\n",
    "# Ensure repeatably random problem data.\n",
    "np.random.seed(0)\n",
    "\n",
    "# Generate random data matrix A.\n",
    "m = 10\n",
    "n = 10\n",
    "k = 5\n",
    "A = np.random.rand(m, k).dot(np.random.rand(k, n))\n",
    "\n",
    "# Initialize Y randomly.\n",
    "Y_init = np.random.rand(m, k)"
   ]
  },
  {
   "cell_type": "markdown",
   "metadata": {},
   "source": [
    "## Perform alternating minimization"
   ]
  },
  {
   "cell_type": "code",
   "execution_count": 2,
   "metadata": {},
   "outputs": [
    {
     "name": "stdout",
     "output_type": "stream",
     "text": [
      "Iteration 1, residual norm 2.765375656780594\n",
      "Iteration 2, residual norm 0.4702952510192831\n",
      "Iteration 3, residual norm 0.32468223295217946\n",
      "Iteration 4, residual norm 0.16766115965494036\n",
      "Iteration 5, residual norm 0.11966078799850194\n",
      "Iteration 6, residual norm 0.0955226153242161\n",
      "Iteration 7, residual norm 0.07710177974128414\n",
      "Iteration 8, residual norm 0.06371531185679373\n",
      "Iteration 9, residual norm 0.052314854204695546\n",
      "Iteration 10, residual norm 0.04360850227591085\n",
      "Iteration 11, residual norm 0.03655649199669773\n",
      "Iteration 12, residual norm 0.03111183686351317\n",
      "Iteration 13, residual norm 0.026619249133757343\n",
      "Iteration 14, residual norm 0.023042708255002018\n",
      "Iteration 15, residual norm 0.02014671894286064\n",
      "Iteration 16, residual norm 0.017850043964129075\n",
      "Iteration 17, residual norm 0.015991156868722083\n",
      "Iteration 18, residual norm 0.014364203314258804\n",
      "Iteration 19, residual norm 0.013284602184854465\n",
      "Iteration 20, residual norm 0.012095501895322897\n",
      "Iteration 21, residual norm 0.011535153475650817\n",
      "Iteration 22, residual norm 0.010801989392759507\n",
      "Iteration 23, residual norm 0.010426864913131011\n",
      "Iteration 24, residual norm 0.00998697323580848\n",
      "Iteration 25, residual norm 0.009456140712838375\n",
      "Iteration 26, residual norm 0.009018976959877068\n",
      "Iteration 27, residual norm 0.008592694467348297\n",
      "Iteration 28, residual norm 0.008168920698753248\n",
      "Iteration 29, residual norm 0.007850649885663778\n",
      "Iteration 30, residual norm 0.007473302976241693\n"
     ]
    }
   ],
   "source": [
    "# Ensure same initial random Y, rather than generate new one\n",
    "# when executing this cell.\n",
    "Y = Y_init \n",
    "\n",
    "# Perform alternating minimization.\n",
    "MAX_ITERS = 30\n",
    "residual = np.zeros(MAX_ITERS)\n",
    "for iter_num in range(1, 1+MAX_ITERS):\n",
    "    # At the beginning of an iteration, X and Y are NumPy\n",
    "    # array types, NOT CVXPY variables.\n",
    "\n",
    "    # For odd iterations, treat Y constant, optimize over X.\n",
    "    if iter_num % 2 == 1:\n",
    "        X = cp.Variable(shape=(k, n))\n",
    "        constraint = [X >= 0]\n",
    "    # For even iterations, treat X constant, optimize over Y.\n",
    "    else:\n",
    "        Y = cp.Variable(shape=(m, k))\n",
    "        constraint = [Y >= 0]\n",
    "    \n",
    "    # Solve the problem.\n",
    "    # increase max iters otherwise, a few iterations are \"OPTIMAL_INACCURATE\"\n",
    "    # (eg a few of the entries in X or Y are negative beyond standard tolerances)\n",
    "    obj = cp.Minimize(cp.norm(A - Y*X, 'fro'))\n",
    "    prob = cp.Problem(obj, constraint)\n",
    "    prob.solve(solver=cp.SCS, max_iters=10000)\n",
    "\n",
    "    if prob.status != cp.OPTIMAL:\n",
    "        raise Exception(\"Solver did not converge!\")\n",
    "    \n",
    "    print('Iteration {}, residual norm {}'.format(iter_num, prob.value))\n",
    "    residual[iter_num-1] = prob.value\n",
    "\n",
    "    # Convert variable to NumPy array constant for next iteration.\n",
    "    if iter_num % 2 == 1:\n",
    "        X = X.value\n",
    "    else:\n",
    "        Y = Y.value"
   ]
  },
  {
   "cell_type": "markdown",
   "metadata": {},
   "source": [
    "## Output results"
   ]
  },
  {
   "cell_type": "code",
   "execution_count": 3,
   "metadata": {},
   "outputs": [
    {
     "data": {
      "image/png": "[encoded data removed]",
      "text/plain": [
       "<Figure size 432x288 with 1 Axes>"
      ]
     },
     "metadata": {
      "needs_background": "light"
     },
     "output_type": "display_data"
    },
    {
     "name": "stdout",
     "output_type": "stream",
     "text": [
      "Original matrix:\n",
      "[[1.323426   1.11061189 1.69137835 1.20020115 1.13216889 0.5980743\n",
      "  1.64965406 0.340611   1.69871738 0.78278448]\n",
      " [1.73721109 1.40464204 1.90898877 1.60774132 1.53717253 0.62647405\n",
      "  1.76242265 0.41151492 1.8048194  1.20313124]\n",
      " [1.4071438  1.10269406 1.75323063 1.18928983 1.23428169 0.60364688\n",
      "  1.63792853 0.40855006 1.57257432 1.17227344]\n",
      " [1.3905141  1.33367163 1.07723947 1.67735654 1.33039096 0.42003169\n",
      "  1.22641711 0.21470465 1.47350799 0.84931787]\n",
      " [1.42153652 1.13598552 2.00816457 1.11463462 1.17914429 0.69942578\n",
      "  1.90353699 0.45664487 1.81023916 1.09668578]\n",
      " [1.60813803 1.23214532 1.73741086 1.3148874  1.27589039 0.40755835\n",
      "  1.31904948 0.3469129  1.34256526 0.76924618]\n",
      " [0.90607895 0.6632877  1.25412229 0.81696721 0.87218892 0.50032884\n",
      "  1.245879   0.25079329 1.25017792 0.72155621]\n",
      " [1.5691922  1.47359672 1.76518996 1.66268312 1.43746574 0.72486628\n",
      "  1.97409333 0.39239642 2.09234807 1.16325748]\n",
      " [1.18723548 1.00282008 1.41532595 1.03836298 0.90382914 0.38460446\n",
      "  1.213473   0.23641422 1.32784402 0.27179726]\n",
      " [0.75789915 0.75119989 0.99502166 0.65444815 0.56073096 0.341146\n",
      "  1.02555143 0.24273668 1.01035919 0.49427978]]\n",
      "Left factor Y:\n",
      "[[ 7.56271438e-01  3.36364867e-01  8.26605213e-01  6.86409763e-01\n",
      "   1.76477340e+02]\n",
      " [ 6.70431663e-01  8.71217251e-01  4.97564124e-01  3.64126727e-01\n",
      "   1.22100920e+03]\n",
      " [ 5.90301534e-01  6.74037149e-01  7.50664474e-01  6.86977212e-03\n",
      "   1.36349003e+03]\n",
      " [ 2.69343269e-01  9.80688334e-01  3.73225906e-02  9.44031644e-01\n",
      "  -2.77322655e-10]\n",
      " [ 8.18823237e-01  3.65091881e-01  1.13230942e+00  2.66670586e-01\n",
      "   1.08617780e+03]\n",
      " [ 7.83842724e-01  5.04584918e-01 -1.28808858e-07  4.70316766e-01\n",
      "   1.65253849e+03]\n",
      " [ 4.82405993e-01  4.04394170e-01  7.66560806e-01  4.62388657e-02\n",
      "  -2.53699622e-04]\n",
      " [ 5.99861511e-01  7.57868409e-01  9.72764014e-01  9.15828731e-01\n",
      "   7.89266027e+01]\n",
      " [ 8.34364071e-01  1.25483062e-03  3.15849272e-01  1.09395877e+00\n",
      "  -2.66866056e-10]\n",
      " [ 4.37401915e-01  7.02024428e-02  5.85814026e-01  6.16109678e-01\n",
      "   5.28681283e+02]]\n",
      "Right factor X:\n",
      "[[1.09917704e+00 4.54823366e-01 1.52771410e+00 6.82804074e-01\n",
      "  9.18411447e-01 3.08828964e-01 8.73447764e-01 1.64790948e-01\n",
      "  9.22595932e-01 7.82886304e-02]\n",
      " [8.81896657e-01 7.26865537e-01 6.36739182e-01 1.11674705e+00\n",
      "  9.91463604e-01 3.03023586e-01 7.45092489e-01 1.24124528e-01\n",
      "  8.92802521e-01 7.78643756e-01]\n",
      " [1.04539095e-02 1.64253335e-01 3.37684126e-01 2.09291974e-02\n",
      "  2.96094597e-02 2.90736217e-01 6.68333592e-01 1.55753437e-01\n",
      "  5.58443488e-01 4.79791008e-01]\n",
      " [2.42838856e-01 5.21464018e-01 3.05273767e-02 4.20959562e-01\n",
      "  1.16046870e-01 2.99797646e-02 2.49534421e-01 4.54000201e-02\n",
      "  3.48033249e-01 4.96859182e-02]\n",
      " [1.13312463e-04 1.59601683e-04 1.23571804e-04 1.09275532e-05\n",
      "  5.41662724e-07 1.46997020e-10 8.53945554e-05 8.09729981e-05\n",
      "  3.13936357e-06 1.76446091e-04]]\n",
      "Residual A - Y * X:\n",
      "[[ 1.85447390e-04  2.73203104e-04 -5.82463337e-05  2.05259350e-06\n",
      "  -1.19603800e-04  1.68678460e-03 -3.33569398e-04  3.36627284e-05\n",
      "  -3.82714948e-04 -1.72766042e-04]\n",
      " [-1.67479182e-05 -2.44131758e-05  5.05862581e-06 -3.26453106e-07\n",
      "   1.04720726e-05 -1.50570528e-04  2.96726768e-05 -3.03914349e-06\n",
      "   3.40765037e-05  1.51247703e-05]\n",
      " [-1.49242223e-04 -2.20034785e-04  4.66797825e-05 -1.77054843e-06\n",
      "   9.61716722e-05 -1.35599024e-03  2.67800757e-04 -2.71674837e-05\n",
      "   3.07373487e-04  1.38843857e-04]\n",
      " [-4.53303157e-05 -6.94320296e-05 -1.04783794e-04  8.67787122e-05\n",
      "   4.92065706e-05  5.26111309e-04 -5.60062057e-05 -8.03400185e-05\n",
      "   5.50108169e-05 -1.87613559e-04]\n",
      " [-1.41011345e-04 -2.07650003e-04  4.38450472e-05 -1.62923113e-06\n",
      "   9.06488478e-05 -1.28023810e-03  2.52862849e-04 -2.56470100e-05\n",
      "   2.90266747e-04  1.31235448e-04]\n",
      " [ 9.99581193e-05 -1.31223859e-04  6.96380812e-05  1.40142333e-04\n",
      "   2.48775251e-04 -1.51630744e-03 -3.65497233e-05 -5.20212168e-05\n",
      "   2.67412164e-05  3.62953221e-05]\n",
      " [-4.66263534e-05 -8.40332269e-05 -6.16694334e-04  4.64250238e-04\n",
      "   1.36303122e-04  4.55370362e-03 -6.45000008e-04 -3.91794088e-04\n",
      "  -1.05576188e-04 -1.17604809e-03]\n",
      " [-3.47709707e-05 -5.10176196e-05  1.06430144e-05 -5.80786329e-07\n",
      "   2.22909382e-05 -3.14406307e-04  6.20126911e-05 -6.29584133e-06\n",
      "   7.10994908e-05  3.21346739e-05]\n",
      " [ 5.74589954e-05  8.02793564e-05 -1.95777303e-04  1.31587377e-04\n",
      "  -7.10746594e-06  1.92298007e-03 -3.08442946e-04 -9.75443483e-05\n",
      "  -1.75192550e-04 -3.97017311e-04]\n",
      " [-4.39888351e-04 -6.47815237e-04  1.37529843e-04 -5.10126991e-06\n",
      "   2.83259393e-04 -3.99763573e-03  7.90126842e-04 -7.98848081e-05\n",
      "   9.06639240e-04  4.09461591e-04]]\n",
      "Residual after 30 iterations: 0.007473302976241693\n"
     ]
    }
   ],
   "source": [
    "#\n",
    "# Plot residuals.\n",
    "#\n",
    "import matplotlib.pyplot as plt\n",
    "\n",
    "# Show plot inline in ipython.\n",
    "%matplotlib inline\n",
    "\n",
    "# Create the plot.\n",
    "plt.plot(residual)\n",
    "plt.xlabel('Iteration Number')\n",
    "plt.ylabel('Residual Norm')\n",
    "plt.show()\n",
    "\n",
    "#\n",
    "# Print results.\n",
    "#\n",
    "print('Original matrix:')\n",
    "print(A)\n",
    "print('Left factor Y:')\n",
    "print(Y)\n",
    "print('Right factor X:')\n",
    "print(X)\n",
    "print('Residual A - Y * X:')\n",
    "print(A - Y.dot(X))\n",
    "print('Residual after {} iterations: {}'.format(iter_num, prob.value))\n"
   ]
  },
  {
   "cell_type": "markdown",
   "metadata": {},
   "source": [
    "## It works!"
   ]
  },
  {
   "cell_type": "markdown",
   "metadata": {},
   "source": [
    "## It works on Binder!"
   ]
  }
 ],
 "metadata": {
  "kernelspec": {
   "display_name": "Python 3",
   "language": "python",
   "name": "python3"
  },
  "language_info": {
   "codemirror_mode": {
    "name": "ipython",
    "version": 3
   },
   "file_extension": ".py",
   "mimetype": "text/x-python",
   "name": "python",
   "nbconvert_exporter": "python",
   "pygments_lexer": "ipython3",
   "version": "3.7.6"
  }
 },
 "nbformat": 4,
 "nbformat_minor": 4
}
